{
  "nbformat": 4,
  "nbformat_minor": 0,
  "metadata": {
    "colab": {
      "provenance": [],
      "gpuType": "T4",
      "include_colab_link": true
    },
    "kernelspec": {
      "name": "python3",
      "display_name": "Python 3"
    },
    "language_info": {
      "name": "python"
    },
    "accelerator": "GPU"
  },
  "cells": [
    {
      "cell_type": "markdown",
      "metadata": {
        "id": "view-in-github",
        "colab_type": "text"
      },
      "source": [
        "<a href=\"https://colab.research.google.com/github/AbhayTyagi38/busbookingapp/blob/main/Multi_language_Translator.ipynb\" target=\"_parent\"><img src=\"https://colab.research.google.com/assets/colab-badge.svg\" alt=\"Open In Colab\"/></a>"
      ]
    },
    {
      "cell_type": "code",
      "execution_count": null,
      "metadata": {
        "id": "qnxVxLeZ3cMo"
      },
      "outputs": [],
      "source": [
        "!pip install  transformers sentencepiece  gradio"
      ]
    },
    {
      "cell_type": "code",
      "source": [
        "!pip install langdetect --quiet"
      ],
      "metadata": {
        "id": "vCQJsXZS4vRI"
      },
      "execution_count": null,
      "outputs": []
    },
    {
      "cell_type": "code",
      "source": [
        "from transformers import M2M100ForConditionalGeneration, M2M100Tokenizer\n",
        "from langdetect import detect\n",
        "import gradio as gr"
      ],
      "metadata": {
        "id": "F41FEh833v_6"
      },
      "execution_count": null,
      "outputs": []
    },
    {
      "cell_type": "code",
      "source": [
        "model_name = \"facebook/m2m100_418M\"\n",
        "tokenizer = M2M100Tokenizer.from_pretrained(model_name)\n",
        "model = M2M100ForConditionalGeneration.from_pretrained(model_name)"
      ],
      "metadata": {
        "id": "HJrdNQ2y5uPT"
      },
      "execution_count": null,
      "outputs": []
    },
    {
      "cell_type": "code",
      "source": [
        "language_name = {\n",
        "    'en': 'English',\n",
        "    'fr': 'French',\n",
        "    'de': 'German',\n",
        "    'es': 'Spanish',\n",
        "    'hi': 'Hindi',\n",
        "    'ru': 'Russian',\n",
        "    'ja': 'Japanese',\n",
        "    'zh': 'Chinese'\n",
        "}"
      ],
      "metadata": {
        "id": "8CBU94lD43Ok"
      },
      "execution_count": null,
      "outputs": []
    },
    {
      "cell_type": "code",
      "source": [
        "def translate_text(text, tgt_lang):\n",
        "    try:\n",
        "        src_lang = detect(text)\n",
        "        if src_lang not in language_name or tgt_lang not in language_name:\n",
        "            return \"Unsupported language.\"\n",
        "\n",
        "        tokenizer.src_lang = src_lang\n",
        "        encoded = tokenizer(text, return_tensors=\"pt\")\n",
        "        generated = model.generate(\n",
        "            **encoded,\n",
        "            forced_bos_token_id=tokenizer.get_lang_id(tgt_lang)\n",
        "        )\n",
        "        output = tokenizer.batch_decode(generated, skip_special_tokens=True)[0]\n",
        "\n",
        "        return (\n",
        "            f\"Detected Language: {language_name.get(src_lang, src_lang)}\\n\"\n",
        "            f\"Translated ({language_name.get(tgt_lang)}): {output}\"\n",
        "        )\n",
        "    except Exception as e:\n",
        "        return f\"Error: {str(e)}\""
      ],
      "metadata": {
        "id": "a3rcD1Ev49V6"
      },
      "execution_count": null,
      "outputs": []
    },
    {
      "cell_type": "code",
      "source": [
        "lang_choices = list(language_name.keys())\n",
        "\n",
        "gr.Interface(\n",
        "    fn=translate_text,\n",
        "    inputs=[\n",
        "        gr.Textbox(label=\"Enter text to translate\"),\n",
        "        gr.Dropdown(choices=lang_choices, label=\"Target Language Code\")\n",
        "    ],\n",
        "    outputs=\"text\",\n",
        "    title=\"🌍 AI Powered Multi language Translator\",\n",
        "    description=\"Auto-detects the input language and translates to the selected language using Meta's M2M100 model.\"\n",
        ").launch()"
      ],
      "metadata": {
        "id": "UHPfe5zu5C9q"
      },
      "execution_count": null,
      "outputs": []
    }
  ]
}